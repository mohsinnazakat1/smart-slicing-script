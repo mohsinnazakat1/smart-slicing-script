{
 "cells": [
  {
   "cell_type": "markdown",
   "id": "89f1e2d7",
   "metadata": {},
   "source": [
    "## Step -1 Exporting Libraries"
   ]
  },
  {
   "cell_type": "code",
   "execution_count": null,
   "id": "4f4eb924",
   "metadata": {},
   "outputs": [],
   "source": [
    "#Exporting Libraries \n",
    "from pydub import AudioSegment\n",
    "from pydub.utils import make_chunks\n",
    "import math\n",
    "import os"
   ]
  },
  {
   "cell_type": "markdown",
   "id": "0dd703cf",
   "metadata": {},
   "source": [
    "## Step-2 Add path of folder where your files are located"
   ]
  },
  {
   "cell_type": "code",
   "execution_count": 112,
   "id": "93947d07",
   "metadata": {},
   "outputs": [],
   "source": [
    "#Exporting path of audio files \n",
    "path = ('sample-folder')\n",
    "audiofiles = [os.path.join(dp, f) for dp, dn, filenames in os.walk(path) for f in filenames if os.path.splitext(f)[1] == '.wav']"
   ]
  },
  {
   "cell_type": "markdown",
   "id": "eec1fb57",
   "metadata": {},
   "source": [
    "## Step-3 Smart Slicing Module"
   ]
  },
  {
   "cell_type": "code",
   "execution_count": 113,
   "id": "9da82f9f",
   "metadata": {
    "scrolled": true
   },
   "outputs": [
    {
     "name": "stdout",
     "output_type": "stream",
     "text": [
      "sample-folder\\chunk11.wav\n",
      "sample-folder\\Normal (232).wav\n",
      "chunk 7.257981859410431\n",
      "silence 2.7419501133786848\n",
      "Again 9.999863945578232\n",
      "exporting sample-folder\\Normal (232).wav-chunk0.wav\n",
      "exporting sample-folder\\Normal (232).wav-chunk1.wav\n",
      "exporting sample-folder\\Normal (232).wav-chunk2.wav\n",
      "sample-folder\\Normal (261).wav\n",
      "chunk 7.767981859410431\n",
      "silence 2.2319274376417235\n",
      "Again 9.99984126984127\n",
      "exporting sample-folder\\Normal (261).wav-chunk0.wav\n",
      "exporting sample-folder\\Normal (261).wav-chunk1.wav\n",
      "exporting sample-folder\\Normal (261).wav-chunk2.wav\n",
      "sample-folder\\Normal (358).wav\n",
      "chunk 6.3179818594104304\n",
      "silence 3.6819954648526076\n",
      "Again 9.999909297052154\n",
      "exporting sample-folder\\Normal (358).wav-chunk0.wav\n",
      "exporting sample-folder\\Normal (358).wav-chunk1.wav\n",
      "exporting sample-folder\\Normal (358).wav-chunk2.wav\n",
      "exporting sample-folder\\Normal (358).wav-chunk3.wav\n",
      "exporting sample-folder\\Normal (358).wav-chunk4.wav\n",
      "exporting sample-folder\\Normal (358).wav-chunk5.wav\n",
      "exporting sample-folder\\Normal (358).wav-chunk6.wav\n",
      "exporting sample-folder\\Normal (358).wav-chunk7.wav\n",
      "exporting sample-folder\\Normal (358).wav-chunk8.wav\n",
      "exporting sample-folder\\Normal (358).wav-chunk9.wav\n",
      "exporting sample-folder\\Normal (358).wav-chunk10.wav\n",
      "sample-folder\\Normal (364).wav\n",
      "exporting sample-folder\\Normal (364).wav-chunk0.wav\n",
      "exporting sample-folder\\Normal (364).wav-chunk1.wav\n",
      "sample-folder\\Normal (372).wav\n",
      "chunk 6.778979591836735\n",
      "silence 3.220952380952381\n",
      "Again 9.999863945578232\n",
      "exporting sample-folder\\Normal (372).wav-chunk0.wav\n",
      "exporting sample-folder\\Normal (372).wav-chunk1.wav\n",
      "exporting sample-folder\\Normal (372).wav-chunk2.wav\n",
      "exporting sample-folder\\Normal (372).wav-chunk3.wav\n",
      "exporting sample-folder\\Normal (372).wav-chunk4.wav\n",
      "exporting sample-folder\\Normal (372).wav-chunk5.wav\n",
      "exporting sample-folder\\Normal (372).wav-chunk6.wav\n",
      "exporting sample-folder\\Normal (372).wav-chunk7.wav\n",
      "exporting sample-folder\\Normal (372).wav-chunk8.wav\n",
      "sample-folder\\Normal (399).wav\n",
      "exporting sample-folder\\Normal (399).wav-chunk0.wav\n",
      "exporting sample-folder\\Normal (399).wav-chunk1.wav\n",
      "exporting sample-folder\\Normal (399).wav-chunk2.wav\n",
      "exporting sample-folder\\Normal (399).wav-chunk3.wav\n",
      "exporting sample-folder\\Normal (399).wav-chunk4.wav\n",
      "exporting sample-folder\\Normal (399).wav-chunk5.wav\n",
      "exporting sample-folder\\Normal (399).wav-chunk6.wav\n",
      "exporting sample-folder\\Normal (399).wav-chunk7.wav\n",
      "exporting sample-folder\\Normal (399).wav-chunk8.wav\n",
      "exporting sample-folder\\Normal (399).wav-chunk9.wav\n",
      "exporting sample-folder\\Normal (399).wav-chunk10.wav\n",
      "sample-folder\\Normal (416).wav\n",
      "chunk 8.028979591836734\n",
      "silence 1.9709750566893425\n",
      "Again 9.999886621315193\n",
      "exporting sample-folder\\Normal (416).wav-chunk0.wav\n",
      "exporting sample-folder\\Normal (416).wav-chunk1.wav\n",
      "exporting sample-folder\\Normal (416).wav-chunk2.wav\n",
      "sample-folder\\Normal (428).wav\n",
      "chunk 7.22\n",
      "silence 2.779954648526077\n",
      "Again 9.999886621315193\n",
      "exporting sample-folder\\Normal (428).wav-chunk0.wav\n",
      "exporting sample-folder\\Normal (428).wav-chunk1.wav\n",
      "exporting sample-folder\\Normal (428).wav-chunk2.wav\n",
      "sample-folder\\Normal (441).wav\n",
      "exporting sample-folder\\Normal (441).wav-chunk0.wav\n",
      "exporting sample-folder\\Normal (441).wav-chunk1.wav\n",
      "sample-folder\\Normal (450).wav\n",
      "exporting sample-folder\\Normal (450).wav-chunk0.wav\n",
      "exporting sample-folder\\Normal (450).wav-chunk1.wav\n",
      "sample-folder\\small-audio-1.wav\n",
      "sample-folder\\small-audio-2.wav\n"
     ]
    }
   ],
   "source": [
    "#Smart-Slicing\n",
    "for filename in audiofiles:\n",
    "    print(filename)\n",
    "    myaudio = AudioSegment.from_file(filename , \"wav\") \n",
    "    \n",
    "    #if size of audio is smaller than 10 then, add padding and make it 10 seconds  \n",
    "    if myaudio.duration_seconds<10:\n",
    "        silence_for_padding = AudioSegment.silent(duration= 10000 - len (myaudio))\n",
    "        single_padded_audio = myaudio + silence_for_padding\n",
    "        single_padded_audio.export(\"{}-padded.wav\".format(filename), format='wav')\n",
    "    \n",
    "    #if it's greater than 10 seconds make chunks of 10 seconds\n",
    "    elif myaudio.duration_seconds>10:\n",
    "        chunk_length_ms = 10000 \n",
    "        chunks = make_chunks(myaudio, chunk_length_ms)\n",
    "        \n",
    "        #check for last chunk \n",
    "        #if it's less than 2 secons discard it \n",
    "        if chunks[-1].duration_seconds<=2:\n",
    "            del chunks[-1]\n",
    "        #if last chunk is greater than 2 then add padding to it and update it in chunks list \n",
    "        else:\n",
    "            silence_for_padding = AudioSegment.silent(duration= 10000 - len(chunks[-1]))\n",
    "            print(\"chunk\",chunks[-1].duration_seconds)\n",
    "            print(\"silence\",silence_for_padding.duration_seconds)\n",
    "            chunks[-1] = chunks[-1] + silence_for_padding\n",
    "            print(\"Again\",chunks[-1].duration_seconds)\n",
    "        for i, chunk in enumerate(chunks):\n",
    "            chunk_name = \"{filename}-chunk{chunkname}.wav\".format(filename= filename, chunkname=i )\n",
    "            print (\"exporting\", chunk_name)\n",
    "            chunk.export(chunk_name, format=\"wav\")\n",
    "    else:\n",
    "        #do nothing just pass \n",
    "        pass\n",
    "    "
   ]
  },
  {
   "cell_type": "code",
   "execution_count": 115,
   "id": "dbc0329a",
   "metadata": {},
   "outputs": [
    {
     "data": {
      "text/plain": [
       "10.0"
      ]
     },
     "execution_count": 115,
     "metadata": {},
     "output_type": "execute_result"
    }
   ],
   "source": [
    "chunks[-1].duration_seconds"
   ]
  }
 ],
 "metadata": {
  "kernelspec": {
   "display_name": "Python 3 (ipykernel)",
   "language": "python",
   "name": "python3"
  },
  "language_info": {
   "codemirror_mode": {
    "name": "ipython",
    "version": 3
   },
   "file_extension": ".py",
   "mimetype": "text/x-python",
   "name": "python",
   "nbconvert_exporter": "python",
   "pygments_lexer": "ipython3",
   "version": "3.9.5"
  }
 },
 "nbformat": 4,
 "nbformat_minor": 5
}
